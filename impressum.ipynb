{
 "cells": [
  {
   "cell_type": "code",
   "execution_count": null,
   "id": "1f30d129",
   "metadata": {},
   "outputs": [],
   "source": [
    "def impressum():\n",
    "    text = \"\"\"\n",
    "    Impressum\n",
    "    Dr. phil. Corinna Grimm-Remus\n",
    "    Fachhochschule Potsdam\n",
    "    University of Applied Sciences\n",
    "    Kiepenheuerallee 5\n",
    "    14469 Potsdam\n",
    "    Kontakt:\n",
    "    corinna.grimm-remus@fh-potsdam.de\n",
    "    print(text)\n",
    "\n"
   ]
  }
 ],
 "metadata": {
  "language_info": {
   "name": "python"
  }
 },
 "nbformat": 4,
 "nbformat_minor": 5
}
